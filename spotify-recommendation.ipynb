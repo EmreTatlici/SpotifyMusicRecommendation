{
 "cells": [
  {
   "cell_type": "code",
   "execution_count": 26,
   "id": "cb35ca8f",
   "metadata": {},
   "outputs": [],
   "source": [
    "import spotipy\n",
    "from spotipy.oauth2 import SpotifyOAuth"
   ]
  },
  {
   "cell_type": "code",
   "execution_count": 27,
   "id": "2421e083",
   "metadata": {},
   "outputs": [],
   "source": [
    "# Replace 'your_client_id' and 'your_client_secret' with your actual values\n",
    "client_id = '315b9298663d4b01a7817193cb129dab'\n",
    "client_secret = '5139329caf8245f8bfcc049c71c7600c'\n",
    "redirect_uri = 'https://localhost/callback'"
   ]
  },
  {
   "cell_type": "code",
   "execution_count": 28,
   "id": "7630ad6a",
   "metadata": {},
   "outputs": [],
   "source": [
    "# Set up authentication\n",
    "sp = spotipy.Spotify(auth_manager=SpotifyOAuth(client_id=client_id, client_secret=client_secret, redirect_uri=redirect_uri, scope='user-top-read'))"
   ]
  },
  {
   "cell_type": "code",
   "execution_count": 29,
   "id": "5f121ab0",
   "metadata": {},
   "outputs": [
    {
     "name": "stderr",
     "output_type": "stream",
     "text": [
      "Couldn't read cache at: .cache\n"
     ]
    },
    {
     "name": "stdout",
     "output_type": "stream",
     "text": [
      "Enter the URL you were redirected to: https://localhost/callback?code=AQC5FvqCmfV0Q9ttSINKjiuwPmmT-rjjHtOvW8adEHfcxpm05bW1NBXVMCZJf1g66_IaNHcaB7h_JvrwcCm3T6hkaUykLIzn354GZzi-sxmFySW6oFHiaHnN022PbwMa58ti4fKch_Wp9e7iSlW27-k-A1P_sorG8R2hDE0_q9HEbI8UF-jbFDMNz68v\n"
     ]
    },
    {
     "name": "stderr",
     "output_type": "stream",
     "text": [
      "Couldn't write token to cache at: .cache\n"
     ]
    },
    {
     "name": "stdout",
     "output_type": "stream",
     "text": [
      "1. Don't Matter by Akon\n",
      "2. Idea 22 by Gibran Alcocer\n",
      "3. Ölümle Yaşam Arasında by Mavi Gri, Ahmet Hatipoğlu\n",
      "4. Pastlives - Saddest Version by AyEx\n",
      "5. Fırtınadayım by Mabel Matiz\n"
     ]
    }
   ],
   "source": [
    "# Get the user's top tracks\n",
    "top_tracks = sp.current_user_top_tracks(limit=5, offset=0, time_range='short_term')\n",
    "\n",
    "# Print the names of the top tracks\n",
    "for i, track in enumerate(top_tracks['items']):\n",
    "    print(f\"{i + 1}. {track['name']} by {', '.join([artist['name'] for artist in track['artists']])}\")"
   ]
  },
  {
   "cell_type": "code",
   "execution_count": 30,
   "id": "122b92b5",
   "metadata": {},
   "outputs": [],
   "source": [
    "sp = spotipy.Spotify(auth_manager=SpotifyOAuth(client_id=client_id, client_secret=client_secret, redirect_uri=redirect_uri, scope='user-read-recently-played'))"
   ]
  },
  {
   "cell_type": "code",
   "execution_count": 31,
   "id": "10cc7ebf",
   "metadata": {},
   "outputs": [
    {
     "name": "stderr",
     "output_type": "stream",
     "text": [
      "Couldn't read cache at: .cache\n"
     ]
    },
    {
     "name": "stdout",
     "output_type": "stream",
     "text": [
      "Enter the URL you were redirected to: https://localhost/callback?code=AQDtHMrCm6tNjUICjPE2eDS-e8Zb8XaaRFYhrwoisgYHsrN-pbyjJPdDriyB8gVQWP8rU_sPzfsfcK9kJsRcCkob-OtkXEA6u0Xh0Fo36bkgh7XNsO1dY9zsjUPjbM3pEw7qUa0h14iXcwlszWiquw8ijG_Ytvcy2LCPG12QIRbGEBqgpdY1hqmPaM30FcWSy-o5MLcB9uK1\n"
     ]
    },
    {
     "name": "stderr",
     "output_type": "stream",
     "text": [
      "Couldn't write token to cache at: .cache\n"
     ]
    }
   ],
   "source": [
    "recently_played = sp.current_user_recently_played(limit=50)"
   ]
  },
  {
   "cell_type": "code",
   "execution_count": 32,
   "id": "ea240030",
   "metadata": {},
   "outputs": [
    {
     "name": "stdout",
     "output_type": "stream",
     "text": [
      "1. Yaramızda Kalsın by Merve Özbey\n",
      "2. Yaramızda Kalsın by Merve Özbey\n",
      "3. Ay Tenli Kadın by Ufuk Beydemir\n",
      "4. B. by Anıl Emre Daldal\n",
      "5. Pastlives - Saddest Version by AyEx\n",
      "6. B. by Anıl Emre Daldal\n",
      "7. B. by Anıl Emre Daldal\n",
      "8. B. by Anıl Emre Daldal\n",
      "9. Yaramızda Kalsın by Merve Özbey\n",
      "10. Yaramızda Kalsın by Merve Özbey\n",
      "11. Ceiling Gazing by Mark Kozelek & Jimmy LaValle\n",
      "12. Pastlives - Saddest Version by AyEx\n",
      "13. Pastlives - Saddest Version by AyEx\n",
      "14. Yaramızda Kalsın by Merve Özbey\n",
      "15. Yaramızda Kalsın by Merve Özbey\n",
      "16. Ölümle Yaşam Arasında by Mavi Gri, Ahmet Hatipoğlu\n",
      "17. Ölümle Yaşam Arasında by Mavi Gri, Ahmet Hatipoğlu\n",
      "18. Ölümle Yaşam Arasında by Mavi Gri, Ahmet Hatipoğlu\n",
      "19. Ah Canım Sevgilim - Demo by Rei 6\n",
      "20. Ölümle Yaşam Arasında by Mavi Gri, Ahmet Hatipoğlu\n",
      "21. Ölümle Yaşam Arasında by Mavi Gri, Ahmet Hatipoğlu\n",
      "22. Ölümle Yaşam Arasında by Mavi Gri, Ahmet Hatipoğlu\n",
      "23. Ölümle Yaşam Arasında by Mavi Gri, Ahmet Hatipoğlu\n",
      "24. Ölümle Yaşam Arasında by Mavi Gri, Ahmet Hatipoğlu\n",
      "25. Sen Benim Şarkılarımsın by Cem Adrian, Hande Mehan\n",
      "26. Ölümle Yaşam Arasında by Mavi Gri, Ahmet Hatipoğlu\n",
      "27. A$AP Forever (feat. Moby) by A$AP Rocky, Moby\n",
      "28. Dip by Madrigal\n",
      "29. Fırtınadayım by Mabel Matiz\n",
      "30. Fırtınadayım by Mabel Matiz\n",
      "31. Fırtınadayım by Mabel Matiz\n",
      "32. Cheri Cheri Lady by Modern Talking\n",
      "33. Pastlives - Saddest Version by AyEx\n",
      "34. Pastlives - Saddest Version by AyEx\n",
      "35. Pastlives - Saddest Version by AyEx\n",
      "36. Dip by Madrigal\n",
      "37. Dip by Madrigal\n",
      "38. Fırtınadayım by Mabel Matiz\n",
      "39. Fırtınadayım by Mabel Matiz\n",
      "40. Fırtınadayım by Mabel Matiz\n",
      "41. Cevapsız Sorular by maNga\n",
      "42. Fırtınadayım by Mabel Matiz\n",
      "43. Fırtınadayım by Mabel Matiz\n",
      "44. Fırtınadayım by Mabel Matiz\n",
      "45. HİÇ by Ufuk Beydemir\n",
      "46. Ölümle Yaşam Arasında by Mavi Gri, Ahmet Hatipoğlu\n",
      "47. Ölümle Yaşam Arasında by Mavi Gri, Ahmet Hatipoğlu\n",
      "48. Ölümle Yaşam Arasında by Mavi Gri, Ahmet Hatipoğlu\n",
      "49. Ölümle Yaşam Arasında by Mavi Gri, Ahmet Hatipoğlu\n",
      "50. Ölümle Yaşam Arasında by Mavi Gri, Ahmet Hatipoğlu\n"
     ]
    }
   ],
   "source": [
    "# Print the names of the recently_played\n",
    "for i, track in enumerate(recently_played.get('items', [])):\n",
    "    if 'track' in track:\n",
    "        track_info = track['track']\n",
    "        track_name = track_info.get('name', 'Unknown Track')\n",
    "        artists = ', '.join([artist['name'] for artist in track_info.get('artists', [])])\n",
    "        print(f\"{i + 1}. {track_name} by {artists}\")\n",
    "    else:\n",
    "        print(f\"{i + 1}. Unknown Track (No 'track' key)\")"
   ]
  },
  {
   "cell_type": "code",
   "execution_count": 12,
   "id": "a6d4d1e9",
   "metadata": {},
   "outputs": [
    {
     "name": "stderr",
     "output_type": "stream",
     "text": [
      "Couldn't read cache at: .cache\n"
     ]
    },
    {
     "name": "stdout",
     "output_type": "stream",
     "text": [
      "Enter the URL you were redirected to: https://localhost/callback?code=AQA5ASS02MwY25cdqZK-wVf1amaxnRM_ankjqZnLT1C8QiSlm2X8ICyOI-vFVz_-WA0NaNlM_1_cnntntiXEE2-4nxLDjFm1XYJ3KeLB_Y49Xn6Ys1yqkJh3Wn966NSqeyq5e6-C9pm4jONBHuQz4dzMxbMcqvadCB1gIuusimV40B_UMDa8-qXKTOUwqeYfFdeOA4zVYVWD\n"
     ]
    },
    {
     "name": "stderr",
     "output_type": "stream",
     "text": [
      "Couldn't write token to cache at: .cache\n"
     ]
    },
    {
     "name": "stdout",
     "output_type": "stream",
     "text": [
      "[{'danceability': 0.586, 'energy': 0.68, 'key': 9, 'loudness': -5.559, 'mode': 0, 'speechiness': 0.0631, 'acousticness': 0.183, 'instrumentalness': 0, 'liveness': 0.124, 'valence': 0.259, 'tempo': 153.878, 'type': 'audio_features', 'id': '2ylSxczIH1pxiB1widNq7c', 'uri': 'spotify:track:2ylSxczIH1pxiB1widNq7c', 'track_href': 'https://api.spotify.com/v1/tracks/2ylSxczIH1pxiB1widNq7c', 'analysis_url': 'https://api.spotify.com/v1/audio-analysis/2ylSxczIH1pxiB1widNq7c', 'duration_ms': 244662, 'time_signature': 4}]\n"
     ]
    }
   ],
   "source": [
    "# Example: Extract audio features for a track\n",
    "track_id = recently_played['items'][0]['track']['id']\n",
    "audio_features = sp.audio_features(track_id)\n",
    "print(audio_features)"
   ]
  },
  {
   "cell_type": "code",
   "execution_count": 13,
   "id": "0f66e23b",
   "metadata": {},
   "outputs": [],
   "source": [
    "import pandas as pd\n",
    "\n",
    "# Example: Create a DataFrame from audio features\n",
    "features_df = pd.DataFrame(audio_features)"
   ]
  },
  {
   "cell_type": "code",
   "execution_count": 17,
   "id": "f65733f6",
   "metadata": {},
   "outputs": [
    {
     "data": {
      "text/html": [
       "<style>#sk-container-id-1 {color: black;}#sk-container-id-1 pre{padding: 0;}#sk-container-id-1 div.sk-toggleable {background-color: white;}#sk-container-id-1 label.sk-toggleable__label {cursor: pointer;display: block;width: 100%;margin-bottom: 0;padding: 0.3em;box-sizing: border-box;text-align: center;}#sk-container-id-1 label.sk-toggleable__label-arrow:before {content: \"▸\";float: left;margin-right: 0.25em;color: #696969;}#sk-container-id-1 label.sk-toggleable__label-arrow:hover:before {color: black;}#sk-container-id-1 div.sk-estimator:hover label.sk-toggleable__label-arrow:before {color: black;}#sk-container-id-1 div.sk-toggleable__content {max-height: 0;max-width: 0;overflow: hidden;text-align: left;background-color: #f0f8ff;}#sk-container-id-1 div.sk-toggleable__content pre {margin: 0.2em;color: black;border-radius: 0.25em;background-color: #f0f8ff;}#sk-container-id-1 input.sk-toggleable__control:checked~div.sk-toggleable__content {max-height: 200px;max-width: 100%;overflow: auto;}#sk-container-id-1 input.sk-toggleable__control:checked~label.sk-toggleable__label-arrow:before {content: \"▾\";}#sk-container-id-1 div.sk-estimator input.sk-toggleable__control:checked~label.sk-toggleable__label {background-color: #d4ebff;}#sk-container-id-1 div.sk-label input.sk-toggleable__control:checked~label.sk-toggleable__label {background-color: #d4ebff;}#sk-container-id-1 input.sk-hidden--visually {border: 0;clip: rect(1px 1px 1px 1px);clip: rect(1px, 1px, 1px, 1px);height: 1px;margin: -1px;overflow: hidden;padding: 0;position: absolute;width: 1px;}#sk-container-id-1 div.sk-estimator {font-family: monospace;background-color: #f0f8ff;border: 1px dotted black;border-radius: 0.25em;box-sizing: border-box;margin-bottom: 0.5em;}#sk-container-id-1 div.sk-estimator:hover {background-color: #d4ebff;}#sk-container-id-1 div.sk-parallel-item::after {content: \"\";width: 100%;border-bottom: 1px solid gray;flex-grow: 1;}#sk-container-id-1 div.sk-label:hover label.sk-toggleable__label {background-color: #d4ebff;}#sk-container-id-1 div.sk-serial::before {content: \"\";position: absolute;border-left: 1px solid gray;box-sizing: border-box;top: 0;bottom: 0;left: 50%;z-index: 0;}#sk-container-id-1 div.sk-serial {display: flex;flex-direction: column;align-items: center;background-color: white;padding-right: 0.2em;padding-left: 0.2em;position: relative;}#sk-container-id-1 div.sk-item {position: relative;z-index: 1;}#sk-container-id-1 div.sk-parallel {display: flex;align-items: stretch;justify-content: center;background-color: white;position: relative;}#sk-container-id-1 div.sk-item::before, #sk-container-id-1 div.sk-parallel-item::before {content: \"\";position: absolute;border-left: 1px solid gray;box-sizing: border-box;top: 0;bottom: 0;left: 50%;z-index: -1;}#sk-container-id-1 div.sk-parallel-item {display: flex;flex-direction: column;z-index: 1;position: relative;background-color: white;}#sk-container-id-1 div.sk-parallel-item:first-child::after {align-self: flex-end;width: 50%;}#sk-container-id-1 div.sk-parallel-item:last-child::after {align-self: flex-start;width: 50%;}#sk-container-id-1 div.sk-parallel-item:only-child::after {width: 0;}#sk-container-id-1 div.sk-dashed-wrapped {border: 1px dashed gray;margin: 0 0.4em 0.5em 0.4em;box-sizing: border-box;padding-bottom: 0.4em;background-color: white;}#sk-container-id-1 div.sk-label label {font-family: monospace;font-weight: bold;display: inline-block;line-height: 1.2em;}#sk-container-id-1 div.sk-label-container {text-align: center;}#sk-container-id-1 div.sk-container {/* jupyter's `normalize.less` sets `[hidden] { display: none; }` but bootstrap.min.css set `[hidden] { display: none !important; }` so we also need the `!important` here to be able to override the default hidden behavior on the sphinx rendered scikit-learn.org. See: https://github.com/scikit-learn/scikit-learn/issues/21755 */display: inline-block !important;position: relative;}#sk-container-id-1 div.sk-text-repr-fallback {display: none;}</style><div id=\"sk-container-id-1\" class=\"sk-top-container\"><div class=\"sk-text-repr-fallback\"><pre>NearestNeighbors()</pre><b>In a Jupyter environment, please rerun this cell to show the HTML representation or trust the notebook. <br />On GitHub, the HTML representation is unable to render, please try loading this page with nbviewer.org.</b></div><div class=\"sk-container\" hidden><div class=\"sk-item\"><div class=\"sk-estimator sk-toggleable\"><input class=\"sk-toggleable__control sk-hidden--visually\" id=\"sk-estimator-id-1\" type=\"checkbox\" checked><label for=\"sk-estimator-id-1\" class=\"sk-toggleable__label sk-toggleable__label-arrow\">NearestNeighbors</label><div class=\"sk-toggleable__content\"><pre>NearestNeighbors()</pre></div></div></div></div></div>"
      ],
      "text/plain": [
       "NearestNeighbors()"
      ]
     },
     "execution_count": 17,
     "metadata": {},
     "output_type": "execute_result"
    }
   ],
   "source": [
    "from sklearn.neighbors import NearestNeighbors\n",
    "\n",
    "# Example: Train a k-Nearest Neighbors model\n",
    "model = NearestNeighbors(n_neighbors=5)\n",
    "model.fit(features_df[['danceability', 'energy', 'valence']])"
   ]
  },
  {
   "cell_type": "code",
   "execution_count": 18,
   "id": "2442c43d",
   "metadata": {},
   "outputs": [
    {
     "name": "stderr",
     "output_type": "stream",
     "text": [
      "Couldn't read cache at: .cache\n"
     ]
    },
    {
     "name": "stdout",
     "output_type": "stream",
     "text": [
      "Enter the URL you were redirected to: https://localhost/callback?code=AQBqMzV_25QbQf3e62Ta3DH3UajkmzXKdD-eGNPX3R1kGqHTegs_tM_cu_vXyfHgEi5MVzDCZawq_2eKNpZX_GzDCnOGV9UDk_PBxSTzTdNUPyJ-JDZVLkcfu7-OAgmqgrQOUDNPnfs3qk0ou3J7K4PEWjckcXAzuQKWefN1lb0iJW8rQlLsspe98bPtuRMtYvKF37I82LQC\n"
     ]
    },
    {
     "name": "stderr",
     "output_type": "stream",
     "text": [
      "Couldn't write token to cache at: .cache\n"
     ]
    },
    {
     "name": "stdout",
     "output_type": "stream",
     "text": [
      "{'tracks': [{'album': {'album_type': 'ALBUM', 'artists': [{'external_urls': {'spotify': 'https://open.spotify.com/artist/5gFPi3KWXEwA9bLEO47Ow0'}, 'href': 'https://api.spotify.com/v1/artists/5gFPi3KWXEwA9bLEO47Ow0', 'id': '5gFPi3KWXEwA9bLEO47Ow0', 'name': 'Sıla', 'type': 'artist', 'uri': 'spotify:artist:5gFPi3KWXEwA9bLEO47Ow0'}], 'available_markets': ['AR', 'AU', 'AT', 'BE', 'BO', 'BR', 'BG', 'CA', 'CL', 'CO', 'CR', 'CY', 'CZ', 'DK', 'DO', 'DE', 'EC', 'EE', 'SV', 'FI', 'FR', 'GR', 'GT', 'HN', 'HK', 'HU', 'IS', 'IE', 'IT', 'LV', 'LT', 'LU', 'MY', 'MT', 'MX', 'NL', 'NZ', 'NI', 'NO', 'PA', 'PY', 'PE', 'PH', 'PL', 'PT', 'SG', 'SK', 'ES', 'SE', 'CH', 'TW', 'TR', 'UY', 'US', 'GB', 'AD', 'LI', 'MC', 'ID', 'JP', 'TH', 'VN', 'RO', 'IL', 'ZA', 'SA', 'AE', 'BH', 'QA', 'OM', 'KW', 'EG', 'MA', 'DZ', 'TN', 'LB', 'JO', 'PS', 'IN', 'BY', 'KZ', 'MD', 'UA', 'AL', 'BA', 'HR', 'ME', 'MK', 'RS', 'SI', 'KR', 'BD', 'PK', 'LK', 'GH', 'KE', 'NG', 'TZ', 'UG', 'AG', 'AM', 'BS', 'BB', 'BZ', 'BT', 'BW', 'BF', 'CV', 'CW', 'DM', 'FJ', 'GM', 'GE', 'GD', 'GW', 'GY', 'HT', 'JM', 'KI', 'LS', 'LR', 'MW', 'MV', 'ML', 'MH', 'FM', 'NA', 'NR', 'NE', 'PW', 'PG', 'WS', 'SM', 'ST', 'SN', 'SC', 'SL', 'SB', 'KN', 'LC', 'VC', 'SR', 'TL', 'TO', 'TT', 'TV', 'VU', 'AZ', 'BN', 'BI', 'KH', 'CM', 'TD', 'KM', 'GQ', 'SZ', 'GA', 'GN', 'KG', 'LA', 'MO', 'MR', 'MN', 'NP', 'RW', 'TG', 'UZ', 'ZW', 'BJ', 'MG', 'MU', 'MZ', 'AO', 'CI', 'DJ', 'ZM', 'CD', 'CG', 'IQ', 'LY', 'TJ', 'VE', 'ET', 'XK'], 'external_urls': {'spotify': 'https://open.spotify.com/album/2zSzfMd1A2eMjqljtZUX9f'}, 'href': 'https://api.spotify.com/v1/albums/2zSzfMd1A2eMjqljtZUX9f', 'id': '2zSzfMd1A2eMjqljtZUX9f', 'images': [{'height': 640, 'url': 'https://i.scdn.co/image/ab67616d0000b273c7086a44c158a03c28c657ea', 'width': 640}, {'height': 300, 'url': 'https://i.scdn.co/image/ab67616d00001e02c7086a44c158a03c28c657ea', 'width': 300}, {'height': 64, 'url': 'https://i.scdn.co/image/ab67616d00004851c7086a44c158a03c28c657ea', 'width': 64}], 'name': 'Konuşmadığımız Şeyler Var', 'release_date': '2010-11-29', 'release_date_precision': 'day', 'total_tracks': 12, 'type': 'album', 'uri': 'spotify:album:2zSzfMd1A2eMjqljtZUX9f'}, 'artists': [{'external_urls': {'spotify': 'https://open.spotify.com/artist/5gFPi3KWXEwA9bLEO47Ow0'}, 'href': 'https://api.spotify.com/v1/artists/5gFPi3KWXEwA9bLEO47Ow0', 'id': '5gFPi3KWXEwA9bLEO47Ow0', 'name': 'Sıla', 'type': 'artist', 'uri': 'spotify:artist:5gFPi3KWXEwA9bLEO47Ow0'}], 'available_markets': ['AR', 'AU', 'AT', 'BE', 'BO', 'BR', 'BG', 'CA', 'CL', 'CO', 'CR', 'CY', 'CZ', 'DK', 'DO', 'DE', 'EC', 'EE', 'SV', 'FI', 'FR', 'GR', 'GT', 'HN', 'HK', 'HU', 'IS', 'IE', 'IT', 'LV', 'LT', 'LU', 'MY', 'MT', 'MX', 'NL', 'NZ', 'NI', 'NO', 'PA', 'PY', 'PE', 'PH', 'PL', 'PT', 'SG', 'SK', 'ES', 'SE', 'CH', 'TW', 'TR', 'UY', 'US', 'GB', 'AD', 'LI', 'MC', 'ID', 'JP', 'TH', 'VN', 'RO', 'IL', 'ZA', 'SA', 'AE', 'BH', 'QA', 'OM', 'KW', 'EG', 'MA', 'DZ', 'TN', 'LB', 'JO', 'PS', 'IN', 'BY', 'KZ', 'MD', 'UA', 'AL', 'BA', 'HR', 'ME', 'MK', 'RS', 'SI', 'KR', 'BD', 'PK', 'LK', 'GH', 'KE', 'NG', 'TZ', 'UG', 'AG', 'AM', 'BS', 'BB', 'BZ', 'BT', 'BW', 'BF', 'CV', 'CW', 'DM', 'FJ', 'GM', 'GE', 'GD', 'GW', 'GY', 'HT', 'JM', 'KI', 'LS', 'LR', 'MW', 'MV', 'ML', 'MH', 'FM', 'NA', 'NR', 'NE', 'PW', 'PG', 'WS', 'SM', 'ST', 'SN', 'SC', 'SL', 'SB', 'KN', 'LC', 'VC', 'SR', 'TL', 'TO', 'TT', 'TV', 'VU', 'AZ', 'BN', 'BI', 'KH', 'CM', 'TD', 'KM', 'GQ', 'SZ', 'GA', 'GN', 'KG', 'LA', 'MO', 'MR', 'MN', 'NP', 'RW', 'TG', 'UZ', 'ZW', 'BJ', 'MG', 'MU', 'MZ', 'AO', 'CI', 'DJ', 'ZM', 'CD', 'CG', 'IQ', 'LY', 'TJ', 'VE', 'ET', 'XK'], 'disc_number': 1, 'duration_ms': 204626, 'explicit': False, 'external_ids': {'isrc': 'TRA161000208'}, 'external_urls': {'spotify': 'https://open.spotify.com/track/7MnrlQCQBeL4OzAjcl7nwG'}, 'href': 'https://api.spotify.com/v1/tracks/7MnrlQCQBeL4OzAjcl7nwG', 'id': '7MnrlQCQBeL4OzAjcl7nwG', 'is_local': False, 'name': 'Acısa da Öldürmez', 'popularity': 59, 'preview_url': 'https://p.scdn.co/mp3-preview/651a388b76c8984314ef9ae5af9d154bd87a60b5?cid=315b9298663d4b01a7817193cb129dab', 'track_number': 2, 'type': 'track', 'uri': 'spotify:track:7MnrlQCQBeL4OzAjcl7nwG'}, {'album': {'album_type': 'SINGLE', 'artists': [{'external_urls': {'spotify': 'https://open.spotify.com/artist/1CcZoULzFHa8Uhwo6OlQcp'}, 'href': 'https://api.spotify.com/v1/artists/1CcZoULzFHa8Uhwo6OlQcp', 'id': '1CcZoULzFHa8Uhwo6OlQcp', 'name': 'Semicenk', 'type': 'artist', 'uri': 'spotify:artist:1CcZoULzFHa8Uhwo6OlQcp'}], 'available_markets': ['AR', 'AU', 'AT', 'BE', 'BO', 'BR', 'BG', 'CA', 'CL', 'CO', 'CR', 'CY', 'CZ', 'DK', 'DO', 'DE', 'EC', 'EE', 'SV', 'FI', 'FR', 'GR', 'GT', 'HN', 'HK', 'HU', 'IS', 'IE', 'IT', 'LV', 'LT', 'LU', 'MY', 'MT', 'MX', 'NL', 'NZ', 'NI', 'NO', 'PA', 'PY', 'PE', 'PH', 'PL', 'PT', 'SG', 'SK', 'ES', 'SE', 'CH', 'TW', 'TR', 'UY', 'US', 'GB', 'AD', 'LI', 'MC', 'ID', 'JP', 'TH', 'VN', 'RO', 'IL', 'ZA', 'SA', 'AE', 'BH', 'QA', 'OM', 'KW', 'EG', 'MA', 'DZ', 'TN', 'LB', 'JO', 'PS', 'IN', 'BY', 'KZ', 'MD', 'UA', 'AL', 'BA', 'HR', 'ME', 'MK', 'RS', 'SI', 'KR', 'BD', 'PK', 'LK', 'GH', 'KE', 'NG', 'TZ', 'UG', 'AG', 'AM', 'BS', 'BB', 'BZ', 'BT', 'BW', 'BF', 'CV', 'CW', 'DM', 'FJ', 'GM', 'GE', 'GD', 'GW', 'GY', 'HT', 'JM', 'KI', 'LS', 'LR', 'MW', 'MV', 'ML', 'MH', 'FM', 'NA', 'NR', 'NE', 'PW', 'PG', 'WS', 'SM', 'ST', 'SN', 'SC', 'SL', 'SB', 'KN', 'LC', 'VC', 'SR', 'TL', 'TO', 'TT', 'TV', 'VU', 'AZ', 'BN', 'BI', 'KH', 'CM', 'TD', 'KM', 'GQ', 'SZ', 'GA', 'GN', 'KG', 'LA', 'MO', 'MR', 'MN', 'NP', 'RW', 'TG', 'UZ', 'ZW', 'BJ', 'MG', 'MU', 'MZ', 'AO', 'CI', 'DJ', 'ZM', 'CD', 'CG', 'IQ', 'LY', 'TJ', 'VE', 'ET', 'XK'], 'external_urls': {'spotify': 'https://open.spotify.com/album/7zsuHywn7DVcSrWobc3IGB'}, 'href': 'https://api.spotify.com/v1/albums/7zsuHywn7DVcSrWobc3IGB', 'id': '7zsuHywn7DVcSrWobc3IGB', 'images': [{'height': 640, 'url': 'https://i.scdn.co/image/ab67616d0000b27304df24e4f9c14d99e971f3a7', 'width': 640}, {'height': 300, 'url': 'https://i.scdn.co/image/ab67616d00001e0204df24e4f9c14d99e971f3a7', 'width': 300}, {'height': 64, 'url': 'https://i.scdn.co/image/ab67616d0000485104df24e4f9c14d99e971f3a7', 'width': 64}], 'name': 'Kalbim Usandı', 'release_date': '2021-09-03', 'release_date_precision': 'day', 'total_tracks': 1, 'type': 'album', 'uri': 'spotify:album:7zsuHywn7DVcSrWobc3IGB'}, 'artists': [{'external_urls': {'spotify': 'https://open.spotify.com/artist/1CcZoULzFHa8Uhwo6OlQcp'}, 'href': 'https://api.spotify.com/v1/artists/1CcZoULzFHa8Uhwo6OlQcp', 'id': '1CcZoULzFHa8Uhwo6OlQcp', 'name': 'Semicenk', 'type': 'artist', 'uri': 'spotify:artist:1CcZoULzFHa8Uhwo6OlQcp'}], 'available_markets': ['AR', 'AU', 'AT', 'BE', 'BO', 'BR', 'BG', 'CA', 'CL', 'CO', 'CR', 'CY', 'CZ', 'DK', 'DO', 'DE', 'EC', 'EE', 'SV', 'FI', 'FR', 'GR', 'GT', 'HN', 'HK', 'HU', 'IS', 'IE', 'IT', 'LV', 'LT', 'LU', 'MY', 'MT', 'MX', 'NL', 'NZ', 'NI', 'NO', 'PA', 'PY', 'PE', 'PH', 'PL', 'PT', 'SG', 'SK', 'ES', 'SE', 'CH', 'TW', 'TR', 'UY', 'US', 'GB', 'AD', 'LI', 'MC', 'ID', 'JP', 'TH', 'VN', 'RO', 'IL', 'ZA', 'SA', 'AE', 'BH', 'QA', 'OM', 'KW', 'EG', 'MA', 'DZ', 'TN', 'LB', 'JO', 'PS', 'IN', 'BY', 'KZ', 'MD', 'UA', 'AL', 'BA', 'HR', 'ME', 'MK', 'RS', 'SI', 'KR', 'BD', 'PK', 'LK', 'GH', 'KE', 'NG', 'TZ', 'UG', 'AG', 'AM', 'BS', 'BB', 'BZ', 'BT', 'BW', 'BF', 'CV', 'CW', 'DM', 'FJ', 'GM', 'GE', 'GD', 'GW', 'GY', 'HT', 'JM', 'KI', 'LS', 'LR', 'MW', 'MV', 'ML', 'MH', 'FM', 'NA', 'NR', 'NE', 'PW', 'PG', 'WS', 'SM', 'ST', 'SN', 'SC', 'SL', 'SB', 'KN', 'LC', 'VC', 'SR', 'TL', 'TO', 'TT', 'TV', 'VU', 'AZ', 'BN', 'BI', 'KH', 'CM', 'TD', 'KM', 'GQ', 'SZ', 'GA', 'GN', 'KG', 'LA', 'MO', 'MR', 'MN', 'NP', 'RW', 'TG', 'UZ', 'ZW', 'BJ', 'MG', 'MU', 'MZ', 'AO', 'CI', 'DJ', 'ZM', 'CD', 'CG', 'IQ', 'LY', 'TJ', 'VE', 'ET', 'XK'], 'disc_number': 1, 'duration_ms': 172000, 'explicit': False, 'external_ids': {'isrc': 'FRX452133495'}, 'external_urls': {'spotify': 'https://open.spotify.com/track/7GitJE9DnKQKgddj4Bv71J'}, 'href': 'https://api.spotify.com/v1/tracks/7GitJE9DnKQKgddj4Bv71J', 'id': '7GitJE9DnKQKgddj4Bv71J', 'is_local': False, 'name': 'Kalbim Usandı', 'popularity': 68, 'preview_url': 'https://p.scdn.co/mp3-preview/3078dc3988a0b7c8167a782ef5407344a950562b?cid=315b9298663d4b01a7817193cb129dab', 'track_number': 1, 'type': 'track', 'uri': 'spotify:track:7GitJE9DnKQKgddj4Bv71J'}, {'album': {'album_type': 'SINGLE', 'artists': [{'external_urls': {'spotify': 'https://open.spotify.com/artist/4StjyzjcmZ7a9QncHVf0pu'}, 'href': 'https://api.spotify.com/v1/artists/4StjyzjcmZ7a9QncHVf0pu', 'id': '4StjyzjcmZ7a9QncHVf0pu', 'name': 'Simge', 'type': 'artist', 'uri': 'spotify:artist:4StjyzjcmZ7a9QncHVf0pu'}], 'available_markets': ['AR', 'AU', 'AT', 'BE', 'BO', 'BR', 'BG', 'CA', 'CL', 'CO', 'CR', 'CY', 'CZ', 'DK', 'DO', 'DE', 'EC', 'EE', 'SV', 'FI', 'FR', 'GR', 'GT', 'HN', 'HK', 'HU', 'IS', 'IE', 'IT', 'LV', 'LT', 'LU', 'MY', 'MT', 'MX', 'NL', 'NZ', 'NI', 'NO', 'PA', 'PY', 'PE', 'PH', 'PL', 'PT', 'SG', 'SK', 'ES', 'SE', 'CH', 'TW', 'TR', 'UY', 'US', 'GB', 'AD', 'LI', 'MC', 'ID', 'JP', 'TH', 'VN', 'RO', 'IL', 'ZA', 'SA', 'AE', 'BH', 'QA', 'OM', 'KW', 'EG', 'MA', 'DZ', 'TN', 'LB', 'JO', 'PS', 'IN', 'BY', 'KZ', 'MD', 'UA', 'AL', 'BA', 'HR', 'ME', 'MK', 'RS', 'SI', 'KR', 'BD', 'PK', 'LK', 'GH', 'KE', 'NG', 'TZ', 'UG', 'AG', 'AM', 'BS', 'BB', 'BZ', 'BT', 'BW', 'BF', 'CV', 'CW', 'DM', 'FJ', 'GM', 'GE', 'GD', 'GW', 'GY', 'HT', 'JM', 'KI', 'LS', 'LR', 'MW', 'MV', 'ML', 'MH', 'FM', 'NA', 'NR', 'NE', 'PW', 'PG', 'WS', 'SM', 'ST', 'SN', 'SC', 'SL', 'SB', 'KN', 'LC', 'VC', 'SR', 'TL', 'TO', 'TT', 'TV', 'VU', 'AZ', 'BN', 'BI', 'KH', 'CM', 'TD', 'KM', 'GQ', 'SZ', 'GA', 'GN', 'KG', 'LA', 'MO', 'MR', 'MN', 'NP', 'RW', 'TG', 'UZ', 'ZW', 'BJ', 'MG', 'MU', 'MZ', 'AO', 'CI', 'DJ', 'ZM', 'CD', 'CG', 'IQ', 'LY', 'TJ', 'VE', 'ET', 'XK'], 'external_urls': {'spotify': 'https://open.spotify.com/album/5E2nMHCHr2zP65wVY1SEfL'}, 'href': 'https://api.spotify.com/v1/albums/5E2nMHCHr2zP65wVY1SEfL', 'id': '5E2nMHCHr2zP65wVY1SEfL', 'images': [{'height': 640, 'url': 'https://i.scdn.co/image/ab67616d0000b2736ac73d7c351e39fb12ba01ff', 'width': 640}, {'height': 300, 'url': 'https://i.scdn.co/image/ab67616d00001e026ac73d7c351e39fb12ba01ff', 'width': 300}, {'height': 64, 'url': 'https://i.scdn.co/image/ab67616d000048516ac73d7c351e39fb12ba01ff', 'width': 64}], 'name': 'Sevmek Yüzünden', 'release_date': '2021-04-09', 'release_date_precision': 'day', 'total_tracks': 1, 'type': 'album', 'uri': 'spotify:album:5E2nMHCHr2zP65wVY1SEfL'}, 'artists': [{'external_urls': {'spotify': 'https://open.spotify.com/artist/4StjyzjcmZ7a9QncHVf0pu'}, 'href': 'https://api.spotify.com/v1/artists/4StjyzjcmZ7a9QncHVf0pu', 'id': '4StjyzjcmZ7a9QncHVf0pu', 'name': 'Simge', 'type': 'artist', 'uri': 'spotify:artist:4StjyzjcmZ7a9QncHVf0pu'}], 'available_markets': ['AR', 'AU', 'AT', 'BE', 'BO', 'BR', 'BG', 'CA', 'CL', 'CO', 'CR', 'CY', 'CZ', 'DK', 'DO', 'DE', 'EC', 'EE', 'SV', 'FI', 'FR', 'GR', 'GT', 'HN', 'HK', 'HU', 'IS', 'IE', 'IT', 'LV', 'LT', 'LU', 'MY', 'MT', 'MX', 'NL', 'NZ', 'NI', 'NO', 'PA', 'PY', 'PE', 'PH', 'PL', 'PT', 'SG', 'SK', 'ES', 'SE', 'CH', 'TW', 'TR', 'UY', 'US', 'GB', 'AD', 'LI', 'MC', 'ID', 'JP', 'TH', 'VN', 'RO', 'IL', 'ZA', 'SA', 'AE', 'BH', 'QA', 'OM', 'KW', 'EG', 'MA', 'DZ', 'TN', 'LB', 'JO', 'PS', 'IN', 'BY', 'KZ', 'MD', 'UA', 'AL', 'BA', 'HR', 'ME', 'MK', 'RS', 'SI', 'KR', 'BD', 'PK', 'LK', 'GH', 'KE', 'NG', 'TZ', 'UG', 'AG', 'AM', 'BS', 'BB', 'BZ', 'BT', 'BW', 'BF', 'CV', 'CW', 'DM', 'FJ', 'GM', 'GE', 'GD', 'GW', 'GY', 'HT', 'JM', 'KI', 'LS', 'LR', 'MW', 'MV', 'ML', 'MH', 'FM', 'NA', 'NR', 'NE', 'PW', 'PG', 'WS', 'SM', 'ST', 'SN', 'SC', 'SL', 'SB', 'KN', 'LC', 'VC', 'SR', 'TL', 'TO', 'TT', 'TV', 'VU', 'AZ', 'BN', 'BI', 'KH', 'CM', 'TD', 'KM', 'GQ', 'SZ', 'GA', 'GN', 'KG', 'LA', 'MO', 'MR', 'MN', 'NP', 'RW', 'TG', 'UZ', 'ZW', 'BJ', 'MG', 'MU', 'MZ', 'AO', 'CI', 'DJ', 'ZM', 'CD', 'CG', 'IQ', 'LY', 'TJ', 'VE', 'ET', 'XK'], 'disc_number': 1, 'duration_ms': 219554, 'explicit': False, 'external_ids': {'isrc': 'TR0012100124'}, 'external_urls': {'spotify': 'https://open.spotify.com/track/2ULdX4jhNzXF6hiYHmcKfp'}, 'href': 'https://api.spotify.com/v1/tracks/2ULdX4jhNzXF6hiYHmcKfp', 'id': '2ULdX4jhNzXF6hiYHmcKfp', 'is_local': False, 'name': 'Sevmek Yüzünden', 'popularity': 57, 'preview_url': 'https://p.scdn.co/mp3-preview/ba917aa47a235c6cb948d3f66288239e41bad7d7?cid=315b9298663d4b01a7817193cb129dab', 'track_number': 1, 'type': 'track', 'uri': 'spotify:track:2ULdX4jhNzXF6hiYHmcKfp'}, {'album': {'album_type': 'ALBUM', 'artists': [{'external_urls': {'spotify': 'https://open.spotify.com/artist/1QZYklqR55tZ6b5mK4LD41'}, 'href': 'https://api.spotify.com/v1/artists/1QZYklqR55tZ6b5mK4LD41', 'id': '1QZYklqR55tZ6b5mK4LD41', 'name': 'Kolpa', 'type': 'artist', 'uri': 'spotify:artist:1QZYklqR55tZ6b5mK4LD41'}], 'available_markets': ['AR', 'AU', 'AT', 'BE', 'BO', 'BR', 'BG', 'CA', 'CL', 'CO', 'CR', 'CY', 'CZ', 'DK', 'DO', 'DE', 'EC', 'EE', 'SV', 'FI', 'FR', 'GR', 'GT', 'HN', 'HK', 'HU', 'IS', 'IE', 'IT', 'LV', 'LT', 'LU', 'MY', 'MT', 'MX', 'NL', 'NZ', 'NI', 'NO', 'PA', 'PY', 'PE', 'PH', 'PL', 'PT', 'SG', 'SK', 'ES', 'SE', 'CH', 'TW', 'TR', 'UY', 'US', 'GB', 'AD', 'LI', 'MC', 'ID', 'JP', 'TH', 'VN', 'RO', 'IL', 'ZA', 'SA', 'AE', 'BH', 'QA', 'OM', 'KW', 'EG', 'MA', 'DZ', 'TN', 'LB', 'JO', 'PS', 'IN', 'BY', 'KZ', 'MD', 'UA', 'AL', 'BA', 'HR', 'ME', 'MK', 'RS', 'SI', 'KR', 'BD', 'PK', 'LK', 'GH', 'KE', 'NG', 'TZ', 'UG', 'AG', 'AM', 'BS', 'BB', 'BZ', 'BT', 'BW', 'BF', 'CV', 'CW', 'DM', 'FJ', 'GM', 'GE', 'GD', 'GW', 'GY', 'HT', 'JM', 'KI', 'LS', 'LR', 'MW', 'MV', 'ML', 'MH', 'FM', 'NA', 'NR', 'NE', 'PW', 'PG', 'WS', 'SM', 'ST', 'SN', 'SC', 'SL', 'SB', 'KN', 'LC', 'VC', 'SR', 'TL', 'TO', 'TT', 'TV', 'VU', 'AZ', 'BN', 'BI', 'KH', 'CM', 'TD', 'KM', 'GQ', 'SZ', 'GA', 'GN', 'KG', 'LA', 'MO', 'MR', 'MN', 'NP', 'RW', 'TG', 'UZ', 'ZW', 'BJ', 'MG', 'MU', 'MZ', 'AO', 'CI', 'DJ', 'ZM', 'CD', 'CG', 'IQ', 'LY', 'TJ', 'VE', 'ET', 'XK'], 'external_urls': {'spotify': 'https://open.spotify.com/album/0rhMtScbjN0xonZ3yyUoQG'}, 'href': 'https://api.spotify.com/v1/albums/0rhMtScbjN0xonZ3yyUoQG', 'id': '0rhMtScbjN0xonZ3yyUoQG', 'images': [{'height': 640, 'url': 'https://i.scdn.co/image/ab67616d0000b273fbef8a75691794dd500b4a98', 'width': 640}, {'height': 300, 'url': 'https://i.scdn.co/image/ab67616d00001e02fbef8a75691794dd500b4a98', 'width': 300}, {'height': 64, 'url': 'https://i.scdn.co/image/ab67616d00004851fbef8a75691794dd500b4a98', 'width': 64}], 'name': 'Yatağın Soğuk Tarafı', 'release_date': '2011', 'release_date_precision': 'year', 'total_tracks': 10, 'type': 'album', 'uri': 'spotify:album:0rhMtScbjN0xonZ3yyUoQG'}, 'artists': [{'external_urls': {'spotify': 'https://open.spotify.com/artist/1QZYklqR55tZ6b5mK4LD41'}, 'href': 'https://api.spotify.com/v1/artists/1QZYklqR55tZ6b5mK4LD41', 'id': '1QZYklqR55tZ6b5mK4LD41', 'name': 'Kolpa', 'type': 'artist', 'uri': 'spotify:artist:1QZYklqR55tZ6b5mK4LD41'}], 'available_markets': ['AR', 'AU', 'AT', 'BE', 'BO', 'BR', 'BG', 'CA', 'CL', 'CO', 'CR', 'CY', 'CZ', 'DK', 'DO', 'DE', 'EC', 'EE', 'SV', 'FI', 'FR', 'GR', 'GT', 'HN', 'HK', 'HU', 'IS', 'IE', 'IT', 'LV', 'LT', 'LU', 'MY', 'MT', 'MX', 'NL', 'NZ', 'NI', 'NO', 'PA', 'PY', 'PE', 'PH', 'PL', 'PT', 'SG', 'SK', 'ES', 'SE', 'CH', 'TW', 'TR', 'UY', 'US', 'GB', 'AD', 'LI', 'MC', 'ID', 'JP', 'TH', 'VN', 'RO', 'IL', 'ZA', 'SA', 'AE', 'BH', 'QA', 'OM', 'KW', 'EG', 'MA', 'DZ', 'TN', 'LB', 'JO', 'PS', 'IN', 'BY', 'KZ', 'MD', 'UA', 'AL', 'BA', 'HR', 'ME', 'MK', 'RS', 'SI', 'KR', 'BD', 'PK', 'LK', 'GH', 'KE', 'NG', 'TZ', 'UG', 'AG', 'AM', 'BS', 'BB', 'BZ', 'BT', 'BW', 'BF', 'CV', 'CW', 'DM', 'FJ', 'GM', 'GE', 'GD', 'GW', 'GY', 'HT', 'JM', 'KI', 'LS', 'LR', 'MW', 'MV', 'ML', 'MH', 'FM', 'NA', 'NR', 'NE', 'PW', 'PG', 'WS', 'SM', 'ST', 'SN', 'SC', 'SL', 'SB', 'KN', 'LC', 'VC', 'SR', 'TL', 'TO', 'TT', 'TV', 'VU', 'AZ', 'BN', 'BI', 'KH', 'CM', 'TD', 'KM', 'GQ', 'SZ', 'GA', 'GN', 'KG', 'LA', 'MO', 'MR', 'MN', 'NP', 'RW', 'TG', 'UZ', 'ZW', 'BJ', 'MG', 'MU', 'MZ', 'AO', 'CI', 'DJ', 'ZM', 'CD', 'CG', 'IQ', 'LY', 'TJ', 'VE', 'ET', 'XK'], 'disc_number': 1, 'duration_ms': 253654, 'explicit': False, 'external_ids': {'isrc': 'TR0441108704'}, 'external_urls': {'spotify': 'https://open.spotify.com/track/1IfmI8k7GUykUXnKG6cvPB'}, 'href': 'https://api.spotify.com/v1/tracks/1IfmI8k7GUykUXnKG6cvPB', 'id': '1IfmI8k7GUykUXnKG6cvPB', 'is_local': False, 'name': 'Beni Aşka İnandır', 'popularity': 65, 'preview_url': 'https://p.scdn.co/mp3-preview/2aa13d3fa436841591051ff2edc44b607bda515d?cid=315b9298663d4b01a7817193cb129dab', 'track_number': 4, 'type': 'track', 'uri': 'spotify:track:1IfmI8k7GUykUXnKG6cvPB'}, {'album': {'album_type': 'ALBUM', 'artists': [{'external_urls': {'spotify': 'https://open.spotify.com/artist/7zVYyYhGZxvPHPuhzReYHP'}, 'href': 'https://api.spotify.com/v1/artists/7zVYyYhGZxvPHPuhzReYHP', 'id': '7zVYyYhGZxvPHPuhzReYHP', 'name': 'Ziynet Sali', 'type': 'artist', 'uri': 'spotify:artist:7zVYyYhGZxvPHPuhzReYHP'}], 'available_markets': ['AR', 'AU', 'AT', 'BE', 'BO', 'BR', 'BG', 'CA', 'CL', 'CO', 'CR', 'CY', 'CZ', 'DK', 'DO', 'DE', 'EC', 'EE', 'SV', 'FI', 'FR', 'GR', 'GT', 'HN', 'HK', 'HU', 'IS', 'IE', 'IT', 'LV', 'LT', 'LU', 'MY', 'MT', 'MX', 'NL', 'NZ', 'NI', 'NO', 'PA', 'PY', 'PE', 'PH', 'PL', 'PT', 'SG', 'SK', 'ES', 'SE', 'CH', 'TW', 'TR', 'UY', 'US', 'GB', 'AD', 'LI', 'MC', 'ID', 'JP', 'TH', 'VN', 'RO', 'IL', 'ZA', 'SA', 'AE', 'BH', 'QA', 'OM', 'KW', 'EG', 'MA', 'DZ', 'TN', 'LB', 'JO', 'PS', 'IN', 'BY', 'KZ', 'MD', 'UA', 'AL', 'BA', 'HR', 'ME', 'MK', 'RS', 'SI', 'KR', 'BD', 'PK', 'LK', 'GH', 'KE', 'NG', 'TZ', 'UG', 'AG', 'AM', 'BS', 'BB', 'BZ', 'BT', 'BW', 'BF', 'CV', 'CW', 'DM', 'FJ', 'GM', 'GE', 'GD', 'GW', 'GY', 'HT', 'JM', 'KI', 'LS', 'LR', 'MW', 'MV', 'ML', 'MH', 'FM', 'NA', 'NR', 'NE', 'PW', 'PG', 'WS', 'SM', 'ST', 'SN', 'SC', 'SL', 'SB', 'KN', 'LC', 'VC', 'SR', 'TL', 'TO', 'TT', 'TV', 'VU', 'AZ', 'BN', 'BI', 'KH', 'CM', 'TD', 'KM', 'GQ', 'SZ', 'GA', 'GN', 'KG', 'LA', 'MO', 'MR', 'MN', 'NP', 'RW', 'TG', 'UZ', 'ZW', 'BJ', 'MG', 'MU', 'MZ', 'AO', 'CI', 'DJ', 'ZM', 'CD', 'CG', 'IQ', 'LY', 'TJ', 'VE', 'ET', 'XK'], 'external_urls': {'spotify': 'https://open.spotify.com/album/4WWiBqOj504virUFBWk6yZ'}, 'href': 'https://api.spotify.com/v1/albums/4WWiBqOj504virUFBWk6yZ', 'id': '4WWiBqOj504virUFBWk6yZ', 'images': [{'height': 640, 'url': 'https://i.scdn.co/image/ab67616d0000b27326bd19b322973eea58b043fe', 'width': 640}, {'height': 300, 'url': 'https://i.scdn.co/image/ab67616d00001e0226bd19b322973eea58b043fe', 'width': 300}, {'height': 64, 'url': 'https://i.scdn.co/image/ab67616d0000485126bd19b322973eea58b043fe', 'width': 64}], 'name': 'No.6', 'release_date': '2015-07-31', 'release_date_precision': 'day', 'total_tracks': 11, 'type': 'album', 'uri': 'spotify:album:4WWiBqOj504virUFBWk6yZ'}, 'artists': [{'external_urls': {'spotify': 'https://open.spotify.com/artist/7zVYyYhGZxvPHPuhzReYHP'}, 'href': 'https://api.spotify.com/v1/artists/7zVYyYhGZxvPHPuhzReYHP', 'id': '7zVYyYhGZxvPHPuhzReYHP', 'name': 'Ziynet Sali', 'type': 'artist', 'uri': 'spotify:artist:7zVYyYhGZxvPHPuhzReYHP'}], 'available_markets': ['AR', 'AU', 'AT', 'BE', 'BO', 'BR', 'BG', 'CA', 'CL', 'CO', 'CR', 'CY', 'CZ', 'DK', 'DO', 'DE', 'EC', 'EE', 'SV', 'FI', 'FR', 'GR', 'GT', 'HN', 'HK', 'HU', 'IS', 'IE', 'IT', 'LV', 'LT', 'LU', 'MY', 'MT', 'MX', 'NL', 'NZ', 'NI', 'NO', 'PA', 'PY', 'PE', 'PH', 'PL', 'PT', 'SG', 'SK', 'ES', 'SE', 'CH', 'TW', 'TR', 'UY', 'US', 'GB', 'AD', 'LI', 'MC', 'ID', 'JP', 'TH', 'VN', 'RO', 'IL', 'ZA', 'SA', 'AE', 'BH', 'QA', 'OM', 'KW', 'EG', 'MA', 'DZ', 'TN', 'LB', 'JO', 'PS', 'IN', 'BY', 'KZ', 'MD', 'UA', 'AL', 'BA', 'HR', 'ME', 'MK', 'RS', 'SI', 'KR', 'BD', 'PK', 'LK', 'GH', 'KE', 'NG', 'TZ', 'UG', 'AG', 'AM', 'BS', 'BB', 'BZ', 'BT', 'BW', 'BF', 'CV', 'CW', 'DM', 'FJ', 'GM', 'GE', 'GD', 'GW', 'GY', 'HT', 'JM', 'KI', 'LS', 'LR', 'MW', 'MV', 'ML', 'MH', 'FM', 'NA', 'NR', 'NE', 'PW', 'PG', 'WS', 'SM', 'ST', 'SN', 'SC', 'SL', 'SB', 'KN', 'LC', 'VC', 'SR', 'TL', 'TO', 'TT', 'TV', 'VU', 'AZ', 'BN', 'BI', 'KH', 'CM', 'TD', 'KM', 'GQ', 'SZ', 'GA', 'GN', 'KG', 'LA', 'MO', 'MR', 'MN', 'NP', 'RW', 'TG', 'UZ', 'ZW', 'BJ', 'MG', 'MU', 'MZ', 'AO', 'CI', 'DJ', 'ZM', 'CD', 'CG', 'IQ', 'LY', 'TJ', 'VE', 'ET', 'XK'], 'disc_number': 1, 'duration_ms': 231116, 'explicit': False, 'external_ids': {'isrc': 'TR0011500288'}, 'external_urls': {'spotify': 'https://open.spotify.com/track/5uBm2wyQ9VHE87iTQ8REpW'}, 'href': 'https://api.spotify.com/v1/tracks/5uBm2wyQ9VHE87iTQ8REpW', 'id': '5uBm2wyQ9VHE87iTQ8REpW', 'is_local': False, 'name': 'Dağınık Yatak', 'popularity': 58, 'preview_url': 'https://p.scdn.co/mp3-preview/645dccbf5e04c339ca6c5b34f233d4560d79334c?cid=315b9298663d4b01a7817193cb129dab', 'track_number': 1, 'type': 'track', 'uri': 'spotify:track:5uBm2wyQ9VHE87iTQ8REpW'}], 'seeds': [{'initialPoolSize': 500, 'afterFilteringSize': 500, 'afterRelinkingSize': 500, 'id': '2ylSxczIH1pxiB1widNq7c', 'type': 'TRACK', 'href': 'https://api.spotify.com/v1/tracks/2ylSxczIH1pxiB1widNq7c'}]}\n"
     ]
    }
   ],
   "source": [
    "# Example: Fetch recommendations for a specific seed track\n",
    "recommendations = sp.recommendations(seed_tracks=[track_id], limit=5)\n",
    "print(recommendations)"
   ]
  },
  {
   "cell_type": "code",
   "execution_count": 44,
   "id": "5358696b",
   "metadata": {},
   "outputs": [
    {
     "name": "stdout",
     "output_type": "stream",
     "text": [
      "Track 1:\n",
      "Album Type: ALBUM\n",
      "Artists: Sıla\n",
      "Available Markets: AR, AU, AT, BE, BO, BR, BG, CA, CL, CO, CR, CY, CZ, DK, DO, DE, EC, EE, SV, FI, FR, GR, GT, HN, HK, HU, IS, IE, IT, LV, LT, LU, MY, MT, MX, NL, NZ, NI, NO, PA, PY, PE, PH, PL, PT, SG, SK, ES, SE, CH, TW, TR, UY, US, GB, AD, LI, MC, ID, JP, TH, VN, RO, IL, ZA, SA, AE, BH, QA, OM, KW, EG, MA, DZ, TN, LB, JO, PS, IN, BY, KZ, MD, UA, AL, BA, HR, ME, MK, RS, SI, KR, BD, PK, LK, GH, KE, NG, TZ, UG, AG, AM, BS, BB, BZ, BT, BW, BF, CV, CW, DM, FJ, GM, GE, GD, GW, GY, HT, JM, KI, LS, LR, MW, MV, ML, MH, FM, NA, NR, NE, PW, PG, WS, SM, ST, SN, SC, SL, SB, KN, LC, VC, SR, TL, TO, TT, TV, VU, AZ, BN, BI, KH, CM, TD, KM, GQ, SZ, GA, GN, KG, LA, MO, MR, MN, NP, RW, TG, UZ, ZW, BJ, MG, MU, MZ, AO, CI, DJ, ZM, CD, CG, IQ, LY, TJ, VE, ET, XK\n",
      "Album URL: N/A\n",
      "\n"
     ]
    }
   ],
   "source": [
    "# Assuming the response is stored in a variable named 'track_info'\n",
    "track_info = {\n",
    "    'tracks': [\n",
    "        {\n",
    "            'album': {\n",
    "                'album_type': 'ALBUM',\n",
    "                'artists': [\n",
    "                    {\n",
    "                        'external_urls': {'spotify': 'https://open.spotify.com/artist/5gFPi3KWXEwA9bLEO47Ow0'},\n",
    "                        'href': 'https://api.spotify.com/v1/artists/5gFPi3KWXEwA9bLEO47Ow0',\n",
    "                        'id': '5gFPi3KWXEwA9bLEO47Ow0',\n",
    "                        'name': 'Sıla',\n",
    "                        'type': 'artist',\n",
    "                        'uri': 'spotify:artist:5gFPi3KWXEwA9bLEO47Ow0'\n",
    "                    }\n",
    "                ],\n",
    "                'available_markets': [\n",
    "                    'AR', 'AU', 'AT', 'BE', 'BO', 'BR', 'BG', 'CA', 'CL', 'CO', 'CR', 'CY', 'CZ', 'DK', 'DO', 'DE', 'EC',\n",
    "                    'EE', 'SV', 'FI', 'FR', 'GR', 'GT', 'HN', 'HK', 'HU', 'IS', 'IE', 'IT', 'LV', 'LT', 'LU', 'MY', 'MT',\n",
    "                    'MX', 'NL', 'NZ', 'NI', 'NO', 'PA', 'PY', 'PE', 'PH', 'PL', 'PT', 'SG', 'SK', 'ES', 'SE', 'CH', 'TW',\n",
    "                    'TR', 'UY', 'US', 'GB', 'AD', 'LI', 'MC', 'ID', 'JP', 'TH', 'VN', 'RO', 'IL', 'ZA', 'SA', 'AE', 'BH',\n",
    "                    'QA', 'OM', 'KW', 'EG', 'MA', 'DZ', 'TN', 'LB', 'JO', 'PS', 'IN', 'BY', 'KZ', 'MD', 'UA', 'AL', 'BA',\n",
    "                    'HR', 'ME', 'MK', 'RS', 'SI', 'KR', 'BD', 'PK', 'LK', 'GH', 'KE', 'NG', 'TZ', 'UG', 'AG', 'AM', 'BS',\n",
    "                    'BB', 'BZ', 'BT', 'BW', 'BF', 'CV', 'CW', 'DM', 'FJ', 'GM', 'GE', 'GD', 'GW', 'GY', 'HT', 'JM', 'KI',\n",
    "                    'LS', 'LR', 'MW', 'MV', 'ML', 'MH', 'FM', 'NA', 'NR', 'NE', 'PW', 'PG', 'WS', 'SM', 'ST', 'SN', 'SC',\n",
    "                    'SL', 'SB', 'KN', 'LC', 'VC', 'SR', 'TL', 'TO', 'TT', 'TV', 'VU', 'AZ', 'BN', 'BI', 'KH', 'CM', 'TD',\n",
    "                    'KM', 'GQ', 'SZ', 'GA', 'GN', 'KG', 'LA', 'MO', 'MR', 'MN', 'NP', 'RW', 'TG', 'UZ', 'ZW', 'BJ', 'MG',\n",
    "                    'MU', 'MZ', 'AO', 'CI', 'DJ', 'ZM', 'CD', 'CG', 'IQ', 'LY', 'TJ', 'VE', 'ET', 'XK'\n",
    "                ]\n",
    "            }\n",
    "        }\n",
    "    ]\n",
    "}                       \n",
    "\n",
    "# Extract information\n",
    "for i, track in enumerate(track_info.get('tracks', [])):\n",
    "    album_type = track.get('album', {}).get('album_type', 'N/A')\n",
    "    artists = [artist['name'] for artist in track.get('album', {}).get('artists', [])]\n",
    "    available_markets = track.get('album', {}).get('available_markets', [])\n",
    "    album_url = track.get('album', {}).get('external_urls', {}).get('spotify', 'N/A')\n",
    "\n",
    "    print(f\"Track {i + 1}:\")\n",
    "    print(f\"Album Type: {album_type}\")\n",
    "    print(f\"Artists: {', '.join(artists)}\")\n",
    "    print(f\"Available Markets: {', '.join(available_markets)}\")\n",
    "    print(f\"Album URL: {album_url}\")\n",
    "    print()"
   ]
  },
  {
   "cell_type": "code",
   "execution_count": null,
   "id": "674a8957",
   "metadata": {},
   "outputs": [],
   "source": []
  }
 ],
 "metadata": {
  "kernelspec": {
   "display_name": "Python 3 (ipykernel)",
   "language": "python",
   "name": "python3"
  },
  "language_info": {
   "codemirror_mode": {
    "name": "ipython",
    "version": 3
   },
   "file_extension": ".py",
   "mimetype": "text/x-python",
   "name": "python",
   "nbconvert_exporter": "python",
   "pygments_lexer": "ipython3",
   "version": "3.11.4"
  }
 },
 "nbformat": 4,
 "nbformat_minor": 5
}
